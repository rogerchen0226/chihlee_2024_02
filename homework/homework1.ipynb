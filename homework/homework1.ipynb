{
 "cells": [
  {
   "cell_type": "code",
   "execution_count": 4,
   "metadata": {},
   "outputs": [
    {
     "name": "stdout",
     "output_type": "stream",
     "text": [
      "計算公式 BMI = 體重(公斤)/身高²(公尺²)\n",
      "輸入有誤:身高和體重必須都大於0\n",
      "程式處理結束\n"
     ]
    }
   ],
   "source": [
    "#  homework BMI計算\n",
    "try: \n",
    "    print(\"計算公式 BMI = 體重(公斤)/身高\\u00B2(公尺\\u00B2)\")\n",
    "    height = float(input(\"請輸入身高(公分):\"))\n",
    "    weight = float(input(\"請輸入體重(公斤)\"))\n",
    "\n",
    "    if height<=0 or weight<=0:\n",
    "        raise ValueError(\"身高和體重必須都大於0\")\n",
    "    else:        \n",
    "        print(f\"您的身高 {height} 公分，體重 {weight} 公斤\")\n",
    "        \n",
    "        bmi  = weight/((height/100)**2)\n",
    "        \n",
    "        print(f\"您的BMI值是{bmi:.1f} \", end=\"\")\n",
    "\n",
    "        if bmi >=35:\n",
    "            print(\"屬於重度肥胖\")\n",
    "        elif bmi>=30:\n",
    "            print(\"屬於中度肥胖\")\n",
    "        elif bmi>=27:\n",
    "            print(\"屬於輕度度肥胖\")\n",
    "        elif bmi>=24:\n",
    "            print(\"屬於過重\")\n",
    "        elif bmi<18.5:\n",
    "            print(\"屬於過輕\")\n",
    "        else:\n",
    "            print(\"屬於正常範圍\")\n",
    "\n",
    "except ValueError as e:\n",
    "    print(f\"輸入有誤:{e}\")\n",
    "\n",
    "except Exception as e:\n",
    "    print(f\"發生異常:{e}\")\n",
    "\n",
    "print(\"程式處理結束\")"
   ]
  }
 ],
 "metadata": {
  "kernelspec": {
   "display_name": "Python 3",
   "language": "python",
   "name": "python3"
  },
  "language_info": {
   "codemirror_mode": {
    "name": "ipython",
    "version": 3
   },
   "file_extension": ".py",
   "mimetype": "text/x-python",
   "name": "python",
   "nbconvert_exporter": "python",
   "pygments_lexer": "ipython3",
   "version": "3.11.9"
  }
 },
 "nbformat": 4,
 "nbformat_minor": 2
}
