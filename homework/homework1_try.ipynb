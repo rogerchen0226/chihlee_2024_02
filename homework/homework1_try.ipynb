{
 "cells": [
  {
   "cell_type": "code",
   "execution_count": 1,
   "metadata": {},
   "outputs": [
    {
     "name": "stdout",
     "output_type": "stream",
     "text": [
      "BMI值:8.448117539026631\n",
      "結束BMI運算程式\n"
     ]
    }
   ],
   "source": [
    "try:\n",
    "\n",
    "    height_cm = float(input(\"請輸入身高(公分)\"))\n",
    "    if height_cm <= 0:\n",
    "        raise Exception(\"輸入身高格式錯誤\")\n",
    "    weight = float(input(\"請輸入體重(公斤)\"))\n",
    "    if weight <= 0:\n",
    "        raise Exception(\"輸入體重格式錯誤\")\n",
    "    height_m = float(height_cm)/100\n",
    "    BMI = weight/height_m ** 2\n",
    "    print(f\"BMI值:{BMI}\")\n",
    "    if BMI >= 35:\n",
    "        print(\"重度肥胖\")\n",
    "    elif BMI >= 30:\n",
    "        print(\"中度肥胖\")\n",
    "    elif BMI >= 27:\n",
    "        print(\"輕度肥胖\")\n",
    "    elif BMI >= 24:\n",
    "        print(\"過重肥胖\")\n",
    "    elif BMI >= 18.5:\n",
    "        print(\"健康體重\")\n",
    "except ValueError:\n",
    "    print(\"輸入格式錯誤\")\n",
    "except Exception as e:\n",
    "    print(f\"錯誤說明:{e}\")\n",
    "except Exception:\n",
    "    print(\"不可預期的錯誤\")\n",
    "print(\"結束BMI運算程式\")"
   ]
  }
 ],
 "metadata": {
  "kernelspec": {
   "display_name": "venv1",
   "language": "python",
   "name": "python3"
  },
  "language_info": {
   "codemirror_mode": {
    "name": "ipython",
    "version": 3
   },
   "file_extension": ".py",
   "mimetype": "text/x-python",
   "name": "python",
   "nbconvert_exporter": "python",
   "pygments_lexer": "ipython3",
   "version": "3.11.9"
  }
 },
 "nbformat": 4,
 "nbformat_minor": 2
}
