{
 "cells": [
  {
   "cell_type": "code",
   "execution_count": 12,
   "metadata": {},
   "outputs": [
    {
     "name": "stdout",
     "output_type": "stream",
     "text": [
      "小於等於17\n",
      "ggyy\n",
      "==============\n"
     ]
    }
   ],
   "source": [
    "#if\n",
    "age = 16\n",
    "\n",
    "if(age>17):\n",
    "    print(\"大於17\")\n",
    "    print(\"7878\")\n",
    "else:\n",
    "    print(\"小於等於17\")\n",
    "    print(\"ggyy\")\n",
    "\n",
    "print(\"==============\")"
   ]
  },
  {
   "cell_type": "code",
   "execution_count": 15,
   "metadata": {},
   "outputs": [
    {
     "name": "stdout",
     "output_type": "stream",
     "text": [
      "88 大於17\n",
      "7878\n",
      "==============\n"
     ]
    }
   ],
   "source": [
    "#if\n",
    "age = int(input(\"請輸入年紀?\"))\n",
    "\n",
    "if(age>17):\n",
    "    print(age,\"大於17\")\n",
    "    print(\"7878\")\n",
    "else:\n",
    "    print(age,\"小於等於17\")\n",
    "    print(\"ggyy\")\n",
    "\n",
    "print(\"==============\")"
   ]
  },
  {
   "cell_type": "code",
   "execution_count": 4,
   "metadata": {},
   "outputs": [
    {
     "name": "stdout",
     "output_type": "stream",
     "text": [
      "123 n\n",
      "學生分數是:123\n",
      "學生分數是 123\n"
     ]
    }
   ],
   "source": [
    "score = int(input(\"請輸入學生分數(最高300分):\"))\n",
    "is_add = input(\"學生是否符合加分條件?(y,n)\")\n",
    "\n",
    "if is_add == \"y\":\n",
    "    score *= 1.05\n",
    "    if score>300:\n",
    "        score=300\n",
    "\n",
    "print(score, is_add)\n",
    "print(\"學生分數是:\" + str(score))\n",
    "print(f\"學生分數是 {score}\")"
   ]
  },
  {
   "cell_type": "code",
   "execution_count": 10,
   "metadata": {},
   "outputs": [
    {
     "name": "stdout",
     "output_type": "stream",
     "text": [
      "不知明的錯誤\n",
      "程式處理結束\n"
     ]
    }
   ],
   "source": [
    "try: # 只就score那行防呆\n",
    "    score = int(input(\"請輸入學生分數(最高300分):\"))\n",
    "    #raise NameError 強制丟出 exception\n",
    "except ValueError:\n",
    "    print(\"輸入格式有錯\")\n",
    "except Exception:\n",
    "    print(\"不知明的錯誤\")\n",
    "else:    \n",
    "    is_add = input(\"學生是否符合加分條件?(y,n)\")\n",
    "\n",
    "    if is_add == \"y\":\n",
    "        score *= 1.05\n",
    "        if score>300:\n",
    "            score=300\n",
    "\n",
    "    print(score, is_add)\n",
    "    #print(\"學生分數是:\" + str(score))\n",
    "    print(f\"學生分數是 {score}\")\n",
    "\n",
    "print(\"程式處理結束\")\n"
   ]
  },
  {
   "cell_type": "code",
   "execution_count": 12,
   "metadata": {},
   "outputs": [
    {
     "name": "stdout",
     "output_type": "stream",
     "text": [
      "300 y\n",
      "學生分數是 300\n",
      "程式處理結束\n"
     ]
    }
   ],
   "source": [
    "try: #就整個區段防呆\n",
    "    score = int(input(\"請輸入學生分數(最高300分):\"))\n",
    "    is_add = input(\"學生是否符合加分條件?(y,n)\")\n",
    "\n",
    "    if is_add == \"y\":\n",
    "        score *= 1.05\n",
    "        if score>300:\n",
    "            score=300\n",
    "\n",
    "    print(score, is_add)\n",
    "    #print(\"學生分數是:\" + str(score))\n",
    "    print(f\"學生分數是 {score}\")    \n",
    "except ValueError:\n",
    "    print(\"輸入格式有錯\")\n",
    "except Exception:\n",
    "    print(\"不知明的錯誤\")\n",
    "\n",
    "print(\"程式處理結束\")"
   ]
  }
 ],
 "metadata": {
  "kernelspec": {
   "display_name": "venv1",
   "language": "python",
   "name": "python3"
  },
  "language_info": {
   "codemirror_mode": {
    "name": "ipython",
    "version": 3
   },
   "file_extension": ".py",
   "mimetype": "text/x-python",
   "name": "python",
   "nbconvert_exporter": "python",
   "pygments_lexer": "ipython3",
   "version": "3.11.9"
  }
 },
 "nbformat": 4,
 "nbformat_minor": 2
}
