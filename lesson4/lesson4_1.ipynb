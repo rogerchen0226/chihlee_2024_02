{
 "cells": [
  {
   "cell_type": "code",
   "execution_count": 12,
   "metadata": {},
   "outputs": [
    {
     "name": "stdout",
     "output_type": "stream",
     "text": [
      "小於等於17\n",
      "ggyy\n",
      "==============\n"
     ]
    }
   ],
   "source": [
    "#if\n",
    "age = 16\n",
    "\n",
    "if(age>17):\n",
    "    print(\"大於17\")\n",
    "    print(\"7878\")\n",
    "else:\n",
    "    print(\"小於等於17\")\n",
    "    print(\"ggyy\")\n",
    "\n",
    "print(\"==============\")"
   ]
  },
  {
   "cell_type": "code",
   "execution_count": 15,
   "metadata": {},
   "outputs": [
    {
     "name": "stdout",
     "output_type": "stream",
     "text": [
      "88 大於17\n",
      "7878\n",
      "==============\n"
     ]
    }
   ],
   "source": [
    "#if\n",
    "age = int(input(\"請輸入年紀?\"))\n",
    "\n",
    "if(age>17):\n",
    "    print(age,\"大於17\")\n",
    "    print(\"7878\")\n",
    "else:\n",
    "    print(age,\"小於等於17\")\n",
    "    print(\"ggyy\")\n",
    "\n",
    "print(\"==============\")"
   ]
  },
  {
   "cell_type": "code",
   "execution_count": 19,
   "metadata": {},
   "outputs": [
    {
     "name": "stdout",
     "output_type": "stream",
     "text": [
      "129.15 y\n",
      "學生分數是:129.15\n",
      "學生分數是 129.15\n"
     ]
    }
   ],
   "source": [
    "score = int(input(\"請輸入學生分數(最高300分):\"))\n",
    "is_add = input(\"學生是否符合加分條件?(y,n)\")\n",
    "\n",
    "if is_add == \"y\":\n",
    "    score *= 1.05\n",
    "\n",
    "print(score, is_add)\n",
    "print(\"學生分數是:\" + str(score))\n",
    "print(f\"學生分數是 {score}\")"
   ]
  }
 ],
 "metadata": {
  "kernelspec": {
   "display_name": "venv1",
   "language": "python",
   "name": "python3"
  },
  "language_info": {
   "codemirror_mode": {
    "name": "ipython",
    "version": 3
   },
   "file_extension": ".py",
   "mimetype": "text/x-python",
   "name": "python",
   "nbconvert_exporter": "python",
   "pygments_lexer": "ipython3",
   "version": "3.11.9"
  }
 },
 "nbformat": 4,
 "nbformat_minor": 2
}
