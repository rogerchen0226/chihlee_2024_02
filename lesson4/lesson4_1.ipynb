{
 "cells": [
  {
   "cell_type": "code",
   "execution_count": 9,
   "metadata": {},
   "outputs": [
    {
     "name": "stdout",
     "output_type": "stream",
     "text": [
      "小於等於17\n",
      "ggyy\n",
      "==============\n"
     ]
    }
   ],
   "source": [
    "#if\n",
    "age =13\n",
    "\n",
    "if(age>17):\n",
    "    print(\"大於17\")\n",
    "    print(\"7878\")\n",
    "else:\n",
    "    print(\"小於等於17\")\n",
    "    print(\"ggyy\")\n",
    "\n",
    "print(\"==============\")"
   ]
  }
 ],
 "metadata": {
  "kernelspec": {
   "display_name": "venv1",
   "language": "python",
   "name": "python3"
  },
  "language_info": {
   "codemirror_mode": {
    "name": "ipython",
    "version": 3
   },
   "file_extension": ".py",
   "mimetype": "text/x-python",
   "name": "python",
   "nbconvert_exporter": "python",
   "pygments_lexer": "ipython3",
   "version": "3.11.9"
  }
 },
 "nbformat": 4,
 "nbformat_minor": 2
}
