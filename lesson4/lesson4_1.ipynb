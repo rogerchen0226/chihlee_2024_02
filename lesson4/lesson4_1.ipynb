{
 "cells": [
  {
   "cell_type": "code",
   "execution_count": 11,
   "metadata": {},
   "outputs": [
    {
     "name": "stdout",
     "output_type": "stream",
     "text": [
      "大於17\n",
      "7878\n",
      "==============\n"
     ]
    }
   ],
   "source": [
    "#if\n",
    "age = int(input(\"請輸入年紀?\"))\n",
    "\n",
    "if(age>17):\n",
    "    print(\"大於17\")\n",
    "    print(\"7878\")\n",
    "else:\n",
    "    print(\"小於等於17\")\n",
    "    print(\"ggyy\")\n",
    "\n",
    "print(\"==============\")"
   ]
  }
 ],
 "metadata": {
  "kernelspec": {
   "display_name": "venv1",
   "language": "python",
   "name": "python3"
  },
  "language_info": {
   "codemirror_mode": {
    "name": "ipython",
    "version": 3
   },
   "file_extension": ".py",
   "mimetype": "text/x-python",
   "name": "python",
   "nbconvert_exporter": "python",
   "pygments_lexer": "ipython3",
   "version": "3.11.9"
  }
 },
 "nbformat": 4,
 "nbformat_minor": 2
}
