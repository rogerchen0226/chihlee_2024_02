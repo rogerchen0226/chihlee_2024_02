{
 "cells": [
  {
   "cell_type": "code",
   "execution_count": 11,
   "metadata": {},
   "outputs": [
    {
     "name": "stdout",
     "output_type": "stream",
     "text": [
      "<sqlite3.Connection object at 0x00000167F849B5B0>\n",
      "2.6.0\n"
     ]
    }
   ],
   "source": [
    "import sqlite3\n",
    "from sqlite3 import Error\n",
    "try:\n",
    "    conn = sqlite3.connect('./data/pico.db')\n",
    "    print(conn)\n",
    "    print(sqlite3.version)\n",
    "except Error as e:\n",
    "    print(e) \n",
    "\n"
   ]
  },
  {
   "cell_type": "code",
   "execution_count": 12,
   "metadata": {},
   "outputs": [],
   "source": [
    "sql = \"\"\"\n",
    "INSERT INTO 雞舍 (時間,設備,值)\n",
    "VALUES( '2024-10-26 14:09:30','SA-21/LED_LEVEL',30.6);\n",
    "\"\"\"\n",
    "sql = \"\"\"\n",
    "INSERT INTO 雞舍 (時間,設備,值)\n",
    "VALUES (?,?,?);\n",
    "\"\"\"\n",
    "cursor = conn.cursor()\n",
    "cursor.execute(sql,('2024-10-26 14:09:30','SA-21/LED_LEVEL',30.6))\n",
    "conn.commit()\n",
    "cursor.close()\n",
    "conn.close()\n",
    "\n"
   ]
  }
 ],
 "metadata": {
  "kernelspec": {
   "display_name": "venv1",
   "language": "python",
   "name": "python3"
  },
  "language_info": {
   "codemirror_mode": {
    "name": "ipython",
    "version": 3
   },
   "file_extension": ".py",
   "mimetype": "text/x-python",
   "name": "python",
   "nbconvert_exporter": "python",
   "pygments_lexer": "ipython3",
   "version": "3.11.9"
  }
 },
 "nbformat": 4,
 "nbformat_minor": 2
}
