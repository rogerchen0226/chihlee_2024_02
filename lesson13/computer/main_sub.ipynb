{
 "cells": [
  {
   "cell_type": "code",
   "execution_count": 11,
   "metadata": {},
   "outputs": [
    {
     "name": "stdout",
     "output_type": "stream",
     "text": [
      "root_dir=c:\\Users\\roger\\OneDrive\\文件\\GitHub\\chihlee_2024_02\\lesson13\\computer\n",
      "data_dir=c:\\Users\\roger\\OneDrive\\文件\\GitHub\\chihlee_2024_02\\lesson13\\computer\\data\n",
      "有這個目錄\n"
     ]
    }
   ],
   "source": [
    "import os\n",
    "os.path.abspath(__name__)\n",
    "root_dir = os.getcwd()\n",
    "print(f'root_dir={root_dir}')\n",
    "data_dir = os.path.join(root_dir, 'data')\n",
    "print(f'data_dir={data_dir}')\n",
    "\n",
    "if os.path.isdir(data_dir):\n",
    "    print('有這個目錄')\n",
    "else:\n",
    "    print('沒有這個目錄')\n",
    "    os.makedirs(data_dir)\n",
    "    print('已建立目錄')\n",
    "\n"
   ]
  }
 ],
 "metadata": {
  "kernelspec": {
   "display_name": "venv1",
   "language": "python",
   "name": "python3"
  },
  "language_info": {
   "codemirror_mode": {
    "name": "ipython",
    "version": 3
   },
   "file_extension": ".py",
   "mimetype": "text/x-python",
   "name": "python",
   "nbconvert_exporter": "python",
   "pygments_lexer": "ipython3",
   "version": "3.11.9"
  }
 },
 "nbformat": 4,
 "nbformat_minor": 2
}
