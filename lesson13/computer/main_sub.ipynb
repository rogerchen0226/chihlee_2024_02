{
 "cells": [
  {
   "cell_type": "code",
   "execution_count": 1,
   "metadata": {},
   "outputs": [
    {
     "name": "stdout",
     "output_type": "stream",
     "text": [
      "root_dir=c:\\Users\\roger\\OneDrive\\文件\\GitHub\\chihlee_2024_02\\lesson13\\computer\n",
      "data_dir=c:\\Users\\roger\\OneDrive\\文件\\GitHub\\chihlee_2024_02\\lesson13\\computer\\data\n",
      "有這個目錄\n",
      "file_name=2024_10_12.csv\n",
      "file_path=c:\\Users\\roger\\OneDrive\\文件\\GitHub\\chihlee_2024_02\\lesson13\\computer\\data\\2024_10_12.csv\n",
      "有這個檔案\n",
      "時間，設備，值\n",
      "\"2024-10-12 11:45:25\",SA-21/LED_LEVEL,5\n",
      "\"2024-10-12 11:45:35\",SA-21/LED_LEVEL,7\n",
      "\"2024-10-12 11:46:55\",SA-21/LED_LEVEL,4\n"
     ]
    }
   ],
   "source": [
    "import os\n",
    "os.path.abspath(__name__)\n",
    "root_dir = os.getcwd()\n",
    "print(f'root_dir={root_dir}')\n",
    "data_dir = os.path.join(root_dir, 'data')\n",
    "print(f'data_dir={data_dir}')\n",
    "\n",
    "if os.path.isdir(data_dir):\n",
    "    print('有這個目錄')\n",
    "else:\n",
    "    print('沒有這個目錄')\n",
    "    os.makedirs(data_dir)\n",
    "    print('已建立目錄')\n",
    "\n",
    "#檔案名稱為執行程式的日期，檔案格式為csv，例如2024_10_12.csv，並儲到變數 file_name\n",
    "import datetime\n",
    "today = datetime.datetime.today()\n",
    "file_name = today.strftime('%Y_%m_%d.csv')\n",
    "print(f'file_name={file_name}')\n",
    "\n",
    "\n",
    "#讀取/data目錄下的2024_10_12.csv檔案，檔案格式為csv，並將檔案內容顯示在螢幕上\n",
    "file_path = os.path.join(data_dir, file_name)\n",
    "print(f'file_path={file_path}')\n",
    "if os.path.isfile(file_path):\n",
    "    print('有這個檔案')\n",
    "    with open(file_path, 'r') as file:\n",
    "        for line in file:\n",
    "            print(line.strip())\n",
    "\n"
   ]
  }
 ],
 "metadata": {
  "kernelspec": {
   "display_name": "venv1",
   "language": "python",
   "name": "python3"
  },
  "language_info": {
   "codemirror_mode": {
    "name": "ipython",
    "version": 3
   },
   "file_extension": ".py",
   "mimetype": "text/x-python",
   "name": "python",
   "nbconvert_exporter": "python",
   "pygments_lexer": "ipython3",
   "version": "3.11.9"
  }
 },
 "nbformat": 4,
 "nbformat_minor": 2
}
