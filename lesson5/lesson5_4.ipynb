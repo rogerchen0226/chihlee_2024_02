{
 "cells": [
  {
   "cell_type": "code",
   "execution_count": null,
   "metadata": {},
   "outputs": [],
   "source": [
    "import random\n",
    "import time\n",
    "\n",
    "for i in range(10):\n",
    "    print(random.randint(0, 100), end=' ')\n",
    "    time.sleep(1)\n",
    "\n"
   ]
  },
  {
   "cell_type": "code",
   "execution_count": null,
   "metadata": {},
   "outputs": [],
   "source": [
    "# 1. 找到說明書\n",
    "# https://requests.readthedocs.io/en/latest/api/\n",
    "\n",
    "# 2. 如何使用\n",
    "\n",
    "# 3. 使用套件\n",
    "\n",
    "# https://pypi.org/project/requests/\n",
    "import requests # pip install requests\n",
    "\n",
    "r=requests.get(url='https://api.github.com/events')\n",
    "print(type(r))\n",
    "print(r.text)\n",
    "print(r.status_code)"
   ]
  }
 ],
 "metadata": {
  "kernelspec": {
   "display_name": "venv1",
   "language": "python",
   "name": "python3"
  },
  "language_info": {
   "codemirror_mode": {
    "name": "ipython",
    "version": 3
   },
   "file_extension": ".py",
   "mimetype": "text/x-python",
   "name": "python",
   "nbconvert_exporter": "python",
   "pygments_lexer": "ipython3",
   "version": "3.11.9"
  }
 },
 "nbformat": 4,
 "nbformat_minor": 2
}
