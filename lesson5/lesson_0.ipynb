{
 "cells": [
  {
   "cell_type": "code",
   "execution_count": 1,
   "metadata": {},
   "outputs": [
    {
     "name": "stdout",
     "output_type": "stream",
     "text": [
      "BMI = 23.1\n",
      "範圍：正常範圍\n"
     ]
    }
   ],
   "source": [
    "try:\n",
    "    height = float(input(\"請輸入您的身高(公分)\"))\n",
    "    if height > 300 or height <= 0:\n",
    "        raise Exception(\"身高須以公分為單位並在0~300範圍內\")            \n",
    "    weight = float(input(\"請輸入您的體重(公斤)\"))\n",
    "    if weight <= 0:\n",
    "        raise Exception(\"體重須以公斤為單位並大於0\")\n",
    "    gender = input(\"請輸入您的性別（男/女）：\").strip()\n",
    "    BMI = weight/(height/100) ** 2\n",
    "    print(f'BMI = {BMI:.1f}')\n",
    "\n",
    "    if gender == \"男\":\n",
    "        if BMI < 20:\n",
    "            category = \"體重過輕\"\n",
    "        elif 20 <= BMI < 24:\n",
    "            category = \"正常範圍\"\n",
    "        elif 24 <= BMI < 27:\n",
    "            category = \"過重\"\n",
    "        elif 27 <= BMI < 30:\n",
    "            category = \"輕度肥胖\"\n",
    "        elif 30 <= BMI < 35:\n",
    "            category = \"中度肥胖\"\n",
    "        else:\n",
    "            category = \"重度肥胖\"\n",
    "    elif gender == \"女\":\n",
    "        if BMI < 18:\n",
    "            category = \"體重過輕\"\n",
    "        elif 18 <= BMI < 22:\n",
    "            category = \"正常範圍\"\n",
    "        elif 22 <= BMI < 25:\n",
    "            category = \"過重\"\n",
    "        elif 25 <= BMI < 30:\n",
    "            category = \"輕度肥胖\"\n",
    "        elif 30 <= BMI < 35:\n",
    "            category = \"中度肥胖\"\n",
    "        else:\n",
    "            category = \"重度肥胖\"\n",
    "    else:\n",
    "        category = \"性別輸入錯誤\"\n",
    "\n",
    "    # 輸出體重類別\n",
    "    if category != \"性別輸入錯誤\":\n",
    "        print(f\"範圍：{category}\")\n",
    "    else:\n",
    "        print(category)\n",
    "except ValueError:\n",
    "    print(\"輸入格式有錯\")\n",
    "except Exception as e:\n",
    "    print(f'錯誤訊息:{e}')\n"
   ]
  }
 ],
 "metadata": {
  "kernelspec": {
   "display_name": "venv1",
   "language": "python",
   "name": "python3"
  },
  "language_info": {
   "codemirror_mode": {
    "name": "ipython",
    "version": 3
   },
   "file_extension": ".py",
   "mimetype": "text/x-python",
   "name": "python",
   "nbconvert_exporter": "python",
   "pygments_lexer": "ipython3",
   "version": "3.11.9"
  }
 },
 "nbformat": 4,
 "nbformat_minor": 2
}
