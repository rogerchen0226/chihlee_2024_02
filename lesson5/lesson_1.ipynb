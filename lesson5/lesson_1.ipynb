{
 "cells": [
  {
   "cell_type": "code",
   "execution_count": null,
   "metadata": {},
   "outputs": [],
   "source": [
    "range(10)"
   ]
  },
  {
   "cell_type": "code",
   "execution_count": null,
   "metadata": {},
   "outputs": [],
   "source": [
    "from datetime import datetime\n",
    "\n",
    "for i in range(3):\n",
    "    currentDateAndTime = datetime.now()\n",
    "    print(f\"{i} The current date and time is\", currentDateAndTime)"
   ]
  },
  {
   "cell_type": "code",
   "execution_count": null,
   "metadata": {},
   "outputs": [],
   "source": [
    "for i in range(5):\n",
    "    print(i)"
   ]
  },
  {
   "cell_type": "code",
   "execution_count": null,
   "metadata": {},
   "outputs": [],
   "source": [
    "total = 0\n",
    "for i in range(5):\n",
    "    total += i\n",
    "    print(i, total)\n",
    "    "
   ]
  },
  {
   "cell_type": "code",
   "execution_count": null,
   "metadata": {},
   "outputs": [],
   "source": [
    "# 每10秒打印一次当前时间\n",
    "\n",
    "from datetime import datetime\n",
    "import time\n",
    "\n",
    "for i in range(3):\n",
    "    currentDateAndTime = datetime.now()\n",
    "    print(f\"{i} The current date and time is\", currentDateAndTime)\n",
    "    time.sleep(3)\n"
   ]
  },
  {
   "cell_type": "code",
   "execution_count": 21,
   "metadata": {},
   "outputs": [
    {
     "name": "stdout",
     "output_type": "stream",
     "text": [
      "r\n",
      "o\n",
      "g\n",
      "e\n",
      "r\n",
      "-----------------\n",
      "r\n",
      "o\n",
      "g\n",
      "e\n",
      "r\n"
     ]
    }
   ],
   "source": [
    "for i in \"roger\":\n",
    "    print(i)\n",
    "\n",
    "print(\"-----------------\")\n",
    "s = \"roger\"\n",
    "for i in range(len(s)):\n",
    "    print(s[i])"
   ]
  },
  {
   "cell_type": "code",
   "execution_count": null,
   "metadata": {},
   "outputs": [],
   "source": [
    "s = \"roger\"\n",
    "i = 0\n",
    "while i < len(s):\n",
    "    print(s[i])\n",
    "    i += 1"
   ]
  }
 ],
 "metadata": {
  "kernelspec": {
   "display_name": "venv1",
   "language": "python",
   "name": "python3"
  },
  "language_info": {
   "codemirror_mode": {
    "name": "ipython",
    "version": 3
   },
   "file_extension": ".py",
   "mimetype": "text/x-python",
   "name": "python",
   "nbconvert_exporter": "python",
   "pygments_lexer": "ipython3",
   "version": "3.11.9"
  }
 },
 "nbformat": 4,
 "nbformat_minor": 2
}
