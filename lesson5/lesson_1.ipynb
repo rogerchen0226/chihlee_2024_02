{
 "cells": [
  {
   "cell_type": "code",
   "execution_count": null,
   "metadata": {},
   "outputs": [],
   "source": [
    "range(10)"
   ]
  },
  {
   "cell_type": "code",
   "execution_count": 1,
   "metadata": {},
   "outputs": [
    {
     "name": "stdout",
     "output_type": "stream",
     "text": [
      "0 The current date and time is 2024-09-21 10:12:51.723774\n",
      "1 The current date and time is 2024-09-21 10:12:51.723774\n",
      "2 The current date and time is 2024-09-21 10:12:51.723774\n"
     ]
    }
   ],
   "source": [
    "from datetime import datetime\n",
    "\n",
    "for i in range(3):\n",
    "    currentDateAndTime = datetime.now()\n",
    "    print(f\"{i} The current date and time is\", currentDateAndTime)"
   ]
  },
  {
   "cell_type": "code",
   "execution_count": null,
   "metadata": {},
   "outputs": [],
   "source": [
    "for i in range(5):\n",
    "    print(i)"
   ]
  },
  {
   "cell_type": "code",
   "execution_count": null,
   "metadata": {},
   "outputs": [],
   "source": [
    "total = 0\n",
    "for i in range(5):\n",
    "    total += i\n",
    "    print(i, total)\n",
    "    "
   ]
  },
  {
   "cell_type": "code",
   "execution_count": null,
   "metadata": {},
   "outputs": [],
   "source": [
    "# 每10秒打印一次当前时间\n",
    "\n",
    "from datetime import datetime\n",
    "import time\n",
    "\n",
    "for i in range(3):\n",
    "    currentDateAndTime = datetime.now()\n",
    "    print(f\"{i} The current date and time is\", currentDateAndTime)\n",
    "    time.sleep(3)\n"
   ]
  },
  {
   "cell_type": "code",
   "execution_count": null,
   "metadata": {},
   "outputs": [],
   "source": [
    "for i in \"roger\":\n",
    "    print(i)\n",
    "\n",
    "print(\"-----------------\")\n",
    "s = \"roger\"\n",
    "for i in range(len(s)):\n",
    "    print(s[i])"
   ]
  },
  {
   "cell_type": "code",
   "execution_count": null,
   "metadata": {},
   "outputs": [],
   "source": [
    "s = \"roger\"\n",
    "i = 0\n",
    "while i < len(s):\n",
    "    print(s[i])\n",
    "    i += 1"
   ]
  },
  {
   "cell_type": "code",
   "execution_count": null,
   "metadata": {},
   "outputs": [],
   "source": [
    "# 將每個數字平方\n",
    "numbers = [1, 2, 3, 4, 5]\n",
    "squared = map(lambda x: x ** 2, numbers)\n",
    "print(list(squared))  # 輸出: [1, 4, 9, 16, 25]"
   ]
  },
  {
   "cell_type": "code",
   "execution_count": 1,
   "metadata": {},
   "outputs": [
    {
     "name": "stdout",
     "output_type": "stream",
     "text": [
      "1\n",
      "2\n",
      "4\n",
      "5\n",
      "6\n",
      "3 不在集合中\n",
      "集合中有 5 個元素\n"
     ]
    }
   ],
   "source": [
    "# 使用大括號創建 set\n",
    "numbers_set = {1, 2, 3, 4, 5}\n",
    "\n",
    "numbers_set.add(6)\n",
    "numbers_set.remove(3)\n",
    "\n",
    "for num in numbers_set:\n",
    "    print(num)\n",
    "\n",
    "if 3 in numbers_set:\n",
    "    print(\"3 在集合中\")\n",
    "else:\n",
    "    print(\"3 不在集合中\")\n",
    "\n",
    "# 計算元素的個數\n",
    "count = len(numbers_set)\n",
    "print(f\"集合中有 {count} 個元素\")"
   ]
  }
 ],
 "metadata": {
  "kernelspec": {
   "display_name": "venv1",
   "language": "python",
   "name": "python3"
  },
  "language_info": {
   "codemirror_mode": {
    "name": "ipython",
    "version": 3
   },
   "file_extension": ".py",
   "mimetype": "text/x-python",
   "name": "python",
   "nbconvert_exporter": "python",
   "pygments_lexer": "ipython3",
   "version": "3.11.9"
  }
 },
 "nbformat": 4,
 "nbformat_minor": 2
}
